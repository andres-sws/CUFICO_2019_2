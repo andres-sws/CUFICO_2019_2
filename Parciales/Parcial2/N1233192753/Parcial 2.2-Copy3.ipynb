{
 "cells": [
  {
   "cell_type": "code",
   "execution_count": 1,
   "metadata": {},
   "outputs": [
    {
     "name": "stdout",
     "output_type": "stream",
     "text": [
      "Welcome to JupyROOT 6.18/04\n"
     ]
    }
   ],
   "source": [
    "import ROOT\n",
    "import numpy as np\n",
    "from scipy.integrate import quad\n",
    "import matplotlib.pyplot as plt\n",
    "from random import random\n",
    "import concurrent.futures\n",
    "import time\n",
    "from mpl_toolkits.mplot3d import axes3d"
   ]
  },
  {
   "cell_type": "markdown",
   "metadata": {},
   "source": [
    "# Funcion Landau"
   ]
  },
  {
   "cell_type": "code",
   "execution_count": 2,
   "metadata": {},
   "outputs": [],
   "source": [
    "c_0=100.\n",
    "c_1=7. "
   ]
  },
  {
   "cell_type": "code",
   "execution_count": 3,
   "metadata": {},
   "outputs": [],
   "source": [
    "X_01 , Y_01 = [], []\n",
    "X_01 = np.linspace(-10, 1000, 10000)\n",
    "for j in X_01:\n",
    "    Y_01.append(ROOT.TMath.Landau(j,c_0,c_1,True))     "
   ]
  },
  {
   "cell_type": "code",
   "execution_count": 4,
   "metadata": {},
   "outputs": [
    {
     "data": {
      "text/plain": [
       "Text(0.5, 1.0, 'Landau')"
      ]
     },
     "execution_count": 4,
     "metadata": {},
     "output_type": "execute_result"
    },
    {
     "data": {
      "image/png": "[encoded data removed]",
      "text/plain": [
       "<Figure size 504x360 with 1 Axes>"
      ]
     },
     "metadata": {
      "needs_background": "light"
     },
     "output_type": "display_data"
    }
   ],
   "source": [
    "fig = plt.figure(figsize=(7,5))\n",
    "plt.plot(X_01, Y_01)\n",
    "plt.grid()\n",
    "plt.title('Landau')"
   ]
  },
  {
   "cell_type": "markdown",
   "metadata": {},
   "source": [
    "# Histograma de ROOT"
   ]
  },
  {
   "cell_type": "code",
   "execution_count": 5,
   "metadata": {},
   "outputs": [
    {
     "data": {
      "text/plain": [
       "1"
      ]
     },
     "execution_count": 5,
     "metadata": {},
     "output_type": "execute_result"
    }
   ],
   "source": [
    "DataChain=ROOT.TChain(\"SystemTree;1\")\n",
    "DataChain.Add(\"N1233192753.root\")"
   ]
  },
  {
   "cell_type": "code",
   "execution_count": 6,
   "metadata": {},
   "outputs": [
    {
     "name": "stdout",
     "output_type": "stream",
     "text": [
      "We are going to analyze  80000  events\n"
     ]
    }
   ],
   "source": [
    "NumberOfEventsToCheck=DataChain.GetEntries()\n",
    "print(\"We are going to analyze \",NumberOfEventsToCheck, \" events\")"
   ]
  },
  {
   "cell_type": "code",
   "execution_count": 7,
   "metadata": {},
   "outputs": [],
   "source": [
    "Data = ROOT.TH1F('Data','Histograma',200,0,1000)\n",
    "X_1=[]\n",
    "for entry in DataChain:\n",
    "    X=entry.x\n",
    "    X_1.append(X)\n",
    "    Data.Fill(X)"
   ]
  },
  {
   "cell_type": "code",
   "execution_count": 8,
   "metadata": {},
   "outputs": [
    {
     "data": {
      "image/png": "[encoded data removed]",
      "text/plain": [
       "<IPython.core.display.Image object>"
      ]
     },
     "metadata": {},
     "output_type": "display_data"
    }
   ],
   "source": [
    "c1 = ROOT.TCanvas( 'c1', 'Histograma', 200, 10, 500, 400 )\n",
    "c1.SetFillColor( 0 )\n",
    "Data.Draw()\n",
    "c1.Update()\n",
    "\n",
    "ROOT.gROOT.GetListOfCanvases().Draw()"
   ]
  },
  {
   "cell_type": "markdown",
   "metadata": {},
   "source": [
    "# Metropolis con Landau"
   ]
  },
  {
   "cell_type": "code",
   "execution_count": 9,
   "metadata": {},
   "outputs": [
    {
     "name": "stdout",
     "output_type": "stream",
     "text": [
      "48.6094856262207 633624.75\n"
     ]
    }
   ],
   "source": [
    "x_min = min(X_1)\n",
    "x_max = max(X_1)\n",
    "print (x_min,x_max)"
   ]
  },
  {
   "cell_type": "code",
   "execution_count": 10,
   "metadata": {},
   "outputs": [],
   "source": [
    "# Metropolis\n",
    "\n",
    "def Metropolis(Y):\n",
    "    phi=[]\n",
    "    phi_0 = x_min + (random()*(x_max-(x_min)))\n",
    "    phi.append(phi_0)\n",
    "    while len(phi)<Y:\n",
    "        phi_p = x_min + (random()*(x_max-(x_min))) \n",
    "        deltaS= -np.log(ROOT.TMath.Landau(phi_p,c_0,c_1, True)/ROOT.TMath.Landau(phi_0,c_0,c_1, True))\n",
    "        if deltaS<0:\n",
    "            phi_1=phi_p\n",
    "            phi.append(phi_1)\n",
    "            #print (phi_1)\n",
    "            phi_0=phi_1    \n",
    "        elif deltaS>0:\n",
    "      \n",
    "            L1=ROOT.TMath.Landau(phi_p,c_0,c_1, True)\n",
    " \n",
    "            L2=ROOT.TMath.Landau(phi_0,c_0,c_1, True)\n",
    "            L=L1/L2\n",
    "            #print (x,L)\n",
    "            x=random()\n",
    "            if x<L:\n",
    "                phi_1=phi_p\n",
    "                phi.append(phi_1)\n",
    "                #print (phi_1)\n",
    "                phi_0=phi_1\n",
    "            elif x>L:\n",
    "                continue               \n",
    "    return phi            "
   ]
  },
  {
   "cell_type": "code",
   "execution_count": 11,
   "metadata": {},
   "outputs": [
    {
     "name": "stdout",
     "output_type": "stream",
     "text": [
      "Finished in 35.25 minuute(s)\n"
     ]
    }
   ],
   "source": [
    "start = time.perf_counter()\n",
    "\n",
    "Phi=[]\n",
    "with concurrent.futures.ProcessPoolExecutor() as executor:\n",
    "    number = [20000 for _ in range(4)]\n",
    "    phi_i = executor.map(Metropolis, number)\n",
    "    \n",
    "    for phi in phi_i:\n",
    "        Phi+=phi \n",
    "        \n",
    "finish = time.perf_counter()\n",
    "\n",
    "print(f'Finished in {round((finish-start)/60.,2)} minuute(s)')"
   ]
  },
  {
   "cell_type": "code",
   "execution_count": 12,
   "metadata": {},
   "outputs": [
    {
     "data": {
      "text/plain": [
       "80000"
      ]
     },
     "execution_count": 12,
     "metadata": {},
     "output_type": "execute_result"
    }
   ],
   "source": [
    "len(Phi)"
   ]
  },
  {
   "cell_type": "code",
   "execution_count": 13,
   "metadata": {},
   "outputs": [],
   "source": [
    "Data2 = ROOT.TH1F('Data2','Histograma2',200,0,1000)\n",
    "\n",
    "for i in range(len(Phi)):\n",
    "    d=Phi[i]\n",
    "    Data2.Fill(d)"
   ]
  },
  {
   "cell_type": "code",
   "execution_count": 14,
   "metadata": {},
   "outputs": [
    {
     "name": "stderr",
     "output_type": "stream",
     "text": [
      "Warning in <TCanvas::Constructor>: Deleting canvas with same name: c1\n"
     ]
    },
    {
     "data": {
      "image/png": "[encoded data removed]",
      "text/plain": [
       "<IPython.core.display.Image object>"
      ]
     },
     "metadata": {},
     "output_type": "display_data"
    }
   ],
   "source": [
    "c2 = ROOT.TCanvas( 'c1', 'Histograma 2', 200, 10, 500, 400 )\n",
    "c2.SetFillColor( 0 )\n",
    "Data2.Draw()\n",
    "#Data.Draw('same')\n",
    "c2.Update()\n",
    "\n",
    "ROOT.gROOT.GetListOfCanvases().Draw()"
   ]
  },
  {
   "cell_type": "markdown",
   "metadata": {},
   "source": [
    "# Chi Cuadrado"
   ]
  },
  {
   "cell_type": "code",
   "execution_count": 15,
   "metadata": {},
   "outputs": [],
   "source": [
    "C_0= [110., 120., 130., 140., 0]\n",
    "C_1= [40., 50., 60., 80., 0]"
   ]
  },
  {
   "cell_type": "code",
   "execution_count": 16,
   "metadata": {},
   "outputs": [],
   "source": [
    "for i in range(len(C_0)):\n",
    "    f= open('Data_%d.py' %(i),'w+')\n",
    "    f.write('import ROOT\\n')\n",
    "    f.write('import numpy as np\\n')\n",
    "    f.write('from random import random\\n')\n",
    "    f.write('import concurrent.futures\\n')\n",
    "    f.write('c_0=%d.\\n' %(C_0[i]))\n",
    "    f.write('c_1=%d.\\n' %(C_1[i]))\n",
    "    f.write('x_min=48.6094856262207\\n')\n",
    "    f.write('x_max=633624.75\\n')\n",
    "    f.write('def Metropolis(Y):\\n')\n",
    "    f.write('    phi=[]\\n')\n",
    "    f.write('    phi_0 = x_min + (random()*(x_max-(x_min)))\\n')\n",
    "    f.write('    phi.append(phi_0)\\n')\n",
    "    f.write('    while len(phi)<Y:\\n')\n",
    "    f.write('        phi_p = x_min + (random()*(x_max-(x_min))) \\n')\n",
    "    f.write('        deltaS= -np.log(ROOT.TMath.Landau(phi_p,c_0,c_1, True)/ROOT.TMath.Landau(phi_0,c_0,c_1, True))\\n')\n",
    "    f.write('        if deltaS<0:\\n')\n",
    "    f.write('            phi_1=phi_p\\n')\n",
    "    f.write('            phi.append(phi_1)\\n')\n",
    "    f.write('            phi_0=phi_1\\n')\n",
    "    f.write('        elif deltaS>0:\\n')\n",
    "    f.write('            L1=ROOT.TMath.Landau(phi_p,c_0,c_1, True)\\n')\n",
    "    f.write('            L2=ROOT.TMath.Landau(phi_0,c_0,c_1, True)\\n')\n",
    "    f.write('            L=L1/L2\\n')\n",
    "    f.write('            x=random()\\n')\n",
    "    f.write('            if x<L:\\n')\n",
    "    f.write('                phi_1=phi_p\\n')\n",
    "    f.write('                phi.append(phi_1)\\n')\n",
    "    f.write('                phi_0=phi_1\\n')\n",
    "    f.write('            elif x>L:\\n')\n",
    "    f.write('                continue \\n')\n",
    "    f.write('    return phi\\n')\n",
    "    f.write('Phi=[]\\n')\n",
    "    f.write('with concurrent.futures.ProcessPoolExecutor() as executor:\\n')\n",
    "    f.write('    number = [20000 for _ in range(4)]\\n')\n",
    "    f.write('    phi_i = executor.map(Metropolis, number)\\n')\n",
    "    f.write('    for phi in phi_i:\\n')\n",
    "    f.write('        Phi+=phi\\n')    \n",
    "    f.write('for j in range(len(Phi)):\\n')\n",
    "    f.write('    print (Phi[j])\\n')"
   ]
  },
  {
   "cell_type": "code",
   "execution_count": 17,
   "metadata": {},
   "outputs": [
    {
     "name": "stdout",
     "output_type": "stream",
     "text": [
      "Finished in 22.56 minuute(s)\n"
     ]
    }
   ],
   "source": [
    "start = time.perf_counter()\n",
    "\n",
    "! python Data_0.py >> test0.txt   \n",
    "! python Data_1.py >> test1.txt   \n",
    "! python Data_2.py >> test2.txt   \n",
    "! python Data_3.py >> test3.txt   \n",
    "\n",
    "\n",
    "finish = time.perf_counter()\n",
    "\n",
    "print(f'Finished in {round((finish-start)/60.,2)} minuute(s)')"
   ]
  },
  {
   "cell_type": "code",
   "execution_count": 18,
   "metadata": {},
   "outputs": [],
   "source": [
    "def Chi_2(X,Y,bins):\n",
    "    x=0\n",
    "    for i in range(bins):\n",
    "        x += (X[i] - Y[i])**2/X[i]\n",
    "    return x"
   ]
  },
  {
   "cell_type": "code",
   "execution_count": 19,
   "metadata": {},
   "outputs": [],
   "source": [
    "bins=200"
   ]
  },
  {
   "cell_type": "code",
   "execution_count": 20,
   "metadata": {},
   "outputs": [],
   "source": [
    "D_0=np.loadtxt('test0.txt')\n",
    "D_1=np.loadtxt('test1.txt')\n",
    "D_2=np.loadtxt('test2.txt')\n",
    "D_3=np.loadtxt('test3.txt')"
   ]
  },
  {
   "cell_type": "code",
   "execution_count": 21,
   "metadata": {},
   "outputs": [],
   "source": [
    "Chi=[]\n",
    "for i in [D_0, D_1, D_2, D_3, Phi]:\n",
    "    x=Chi_2(i, X_1, bins)\n",
    "    Chi.append(x) \n",
    "    "
   ]
  },
  {
   "cell_type": "code",
   "execution_count": 22,
   "metadata": {},
   "outputs": [
    {
     "data": {
      "text/plain": [
       "[5997464.207705393,\n",
       " 14254505.360919615,\n",
       " 15699523.54987064,\n",
       " 12048162.455164485,\n",
       " 1993824.4476230321]"
      ]
     },
     "execution_count": 22,
     "metadata": {},
     "output_type": "execute_result"
    }
   ],
   "source": [
    "Chi"
   ]
  },
  {
   "cell_type": "code",
   "execution_count": 23,
   "metadata": {},
   "outputs": [],
   "source": [
    "C_0[-1]=c_0"
   ]
  },
  {
   "cell_type": "code",
   "execution_count": 24,
   "metadata": {},
   "outputs": [],
   "source": [
    "C_1[-1]=c_1"
   ]
  },
  {
   "cell_type": "code",
   "execution_count": 25,
   "metadata": {},
   "outputs": [
    {
     "data": {
      "text/plain": [
       "Text(0.5, 0.92, '$\\\\chi ^{2} (\\\\mu, c)$')"
      ]
     },
     "execution_count": 25,
     "metadata": {},
     "output_type": "execute_result"
    },
    {
     "data": {
      "image/png": "[encoded data removed]",
      "text/plain": [
       "<Figure size 504x360 with 1 Axes>"
      ]
     },
     "metadata": {
      "needs_background": "light"
     },
     "output_type": "display_data"
    }
   ],
   "source": [
    "fig = plt.figure(figsize=(7,5))\n",
    "ax = plt.axes(projection='3d')\n",
    "\n",
    "ax.plot3D(C_0, C_1, Chi, 'o')\n",
    "ax.set_xlabel(r'$\\mu$')\n",
    "ax.set_ylabel('$c$')\n",
    "ax.set_zlabel(r'$\\chi ^{2}$')\n",
    "ax.set_title(r'$\\chi ^{2} (\\mu, c)$')\n"
   ]
  },
  {
   "cell_type": "code",
   "execution_count": 26,
   "metadata": {},
   "outputs": [],
   "source": [
    "Data3 = ROOT.TH1F('Data3','Ajuste',200,0,1000)\n",
    "\n",
    "for i in range(len(Phi)):\n",
    "    d=Phi[i]\n",
    "    Data3.Fill(d)"
   ]
  },
  {
   "cell_type": "code",
   "execution_count": 27,
   "metadata": {},
   "outputs": [
    {
     "name": "stderr",
     "output_type": "stream",
     "text": [
      "Warning in <TCanvas::Constructor>: Deleting canvas with same name: c1\n"
     ]
    },
    {
     "data": {
      "image/png": "[encoded data removed]",
      "text/plain": [
       "<IPython.core.display.Image object>"
      ]
     },
     "metadata": {},
     "output_type": "display_data"
    }
   ],
   "source": [
    "c3 = ROOT.TCanvas( 'c1', 'tite', 200, 10, 500, 400 )\n",
    "c3.SetFillColor( 0 )\n",
    "Data3.Draw()\n",
    "Data.Draw('same')\n",
    "c3.Update()\n",
    "\n",
    "ROOT.gROOT.GetListOfCanvases().Draw()"
   ]
  },
  {
   "cell_type": "code",
   "execution_count": null,
   "metadata": {},
   "outputs": [],
   "source": []
  }
 ],
 "metadata": {
  "kernelspec": {
   "display_name": "Python 3",
   "language": "python",
   "name": "python3"
  },
  "language_info": {
   "codemirror_mode": {
    "name": "ipython",
    "version": 3
   },
   "file_extension": ".py",
   "mimetype": "text/x-python",
   "name": "python",
   "nbconvert_exporter": "python",
   "pygments_lexer": "ipython3",
   "version": "3.7.4"
  }
 },
 "nbformat": 4,
 "nbformat_minor": 2
}
